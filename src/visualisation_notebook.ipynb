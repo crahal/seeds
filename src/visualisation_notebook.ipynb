{
 "cells": [
  {
   "cell_type": "markdown",
   "id": "e3cca504",
   "metadata": {},
   "source": [
    "### On the Responsible use of Pseudo-Random Number Generators in Scientific Research\n",
    "\n",
    "#### Notebook by: [crahal](https://github.com/crahal/).\n",
    "\n",
    "#### Last modified: 1.04.2024"
   ]
  },
  {
   "cell_type": "markdown",
   "id": "8714570a",
   "metadata": {},
   "source": [
    "#### Section 0\n",
    "\n",
    "Lets first load in some dependancies. Note, all the plotting functions can be found in `./src/helper_figure_plotters.py`. The data lives as outputs from other scripts in `./src`, and invariably pulls in results from `./data/`. Figures get _output_ to `figure_path`, defined below. As always, we rely heavily on `pandas`."
   ]
  },
  {
   "cell_type": "code",
   "execution_count": 1,
   "id": "b9467864",
   "metadata": {},
   "outputs": [],
   "source": [
    "import os\n",
    "import warnings\n",
    "import pandas as pd\n",
    "from helper_figure_plotters import load_sympt,\\\n",
    "                                   plot_three_predictions,\\\n",
    "                                   plot_mvprobit,\\\n",
    "                                   plot_four_simple_examples,\\\n",
    "                                   plot_collisions,\\\n",
    "                                   plot_topics_barplot,\\\n",
    "                                   plot_ffc\n",
    "warnings.filterwarnings(\"ignore\")\n",
    "figure_path = os.path.join(os.getcwd(), '..', 'figures')"
   ]
  },
  {
   "cell_type": "code",
   "execution_count": 2,
   "id": "7384facb",
   "metadata": {},
   "outputs": [
    {
     "name": "stdout",
     "output_type": "stream",
     "text": [
      "The minimum mean value is: -0.4317892661417437\n",
      "The maximum mean value is: 0.415586882007415\n"
     ]
    }
   ],
   "source": [
    "import json\n",
    "file_path_100 = os.path.join(os.getcwd(),\n",
    "                             '..',\n",
    "                             'data',\n",
    "                             'rnom',\n",
    "                             'rnom_samples100_seeds100000_results.json')\n",
    "with open(file_path_100, 'r') as file:\n",
    "    data_dict_100 = json.load(file)\n",
    "    \n",
    "print(f\"The minimum mean value is: {data_dict_100['min_val']}\")\n",
    "print(f\"The maximum mean value is: {data_dict_100['max_val']}\")"
   ]
  },
  {
   "cell_type": "markdown",
   "id": "34f5d09e",
   "metadata": {},
   "source": [
    "#### Section 1\n",
    "\n",
    "Lets plot the results from four simple simulation examples, which are grouped together into what is probably 'Figure 1' in the accompanying academic paper. The four examples are:\n",
    "\n",
    "* 'a.': The expectation of a hundred random normal draws\n",
    "* 'b.': Replicating buffon's needle experiment with different seeds.\n",
    "* 'c.': Estimating the number of collisions within a 32-bit Mersenne Twister implementation.\n",
    "    - This is loosely based on work of Hofert (2020, The American Statisician), available [here].(https://arxiv.org/abs/2003.08009v2)\n",
    "* 'd.': A simple random walk prediction (of Bitcoin)."
   ]
  },
  {
   "cell_type": "code",
   "execution_count": 3,
   "id": "8028cccc",
   "metadata": {},
   "outputs": [
    {
     "name": "stdout",
     "output_type": "stream",
     "text": [
      "Loading in the rnom samples for 100 draws, 1000000\n",
      "The minimum mean value is: -0.4317892661417437\n",
      "The maximum mean value is: 0.415586882007415\n"
     ]
    },
    {
     "name": "stderr",
     "output_type": "stream",
     "text": [
      "\n",
      "KeyboardInterrupt\n",
      "\n"
     ]
    }
   ],
   "source": [
    "plot_four_simple_examples(figure_path)"
   ]
  },
  {
   "cell_type": "markdown",
   "id": "d811e2f8",
   "metadata": {},
   "source": [
    "#### Section 2\n",
    "\n",
    "Lets now move on from these simple simulations to consider some more elaborate replications, all of different shapes and sizes. First, lets load in the predictions generated on the [SAIL](https://saildatabank.com/) VM with the symptomtracker data. It loosely repicates Menni et al. (2020, Nature Medicine), available [here](https://www.nature.com/articles/s41591-020-0916-2)."
   ]
  },
  {
   "cell_type": "code",
   "execution_count": null,
   "id": "fb3b1916",
   "metadata": {},
   "outputs": [],
   "source": [
    "filename = 'roc_auc_full_firstwave_5folds_10kseeds_stratified.csv'\n",
    "first_wave_10k_stratified_list = load_sympt(filename)"
   ]
  },
  {
   "cell_type": "markdown",
   "id": "d60937a3",
   "metadata": {},
   "source": [
    "Then, lets use this data, and plot it along side two other types of predictions:\n",
    "    \n",
    "* A simple, more teaching-orientated example (predicting house prices)\n",
    "* Computer Vision example with a convolutional neural network (recognising MNIST)."
   ]
  },
  {
   "cell_type": "code",
   "execution_count": null,
   "id": "3ada797c",
   "metadata": {},
   "outputs": [],
   "source": [
    "plot_three_predictions(first_wave_10k_stratified_list, figure_path)"
   ]
  },
  {
   "cell_type": "markdown",
   "id": "df1baed3",
   "metadata": {},
   "source": [
    "Now lets move on to a more familiar statistical\\econometric example. This is based on the `mvprobit` Stata package of Cappellari and Jenkins (2003, The Stata Journal), available [here](https://journals.sagepub.com/doi/pdf/10.1177/1536867X0300300305)."
   ]
  },
  {
   "cell_type": "code",
   "execution_count": null,
   "id": "4866c2cb",
   "metadata": {},
   "outputs": [],
   "source": [
    "plot_mvprobit(figure_path)"
   ]
  },
  {
   "cell_type": "markdown",
   "id": "5e5eb07b",
   "metadata": {},
   "source": [
    "We next assess the effect of seeds on the instrumental Fragile Families Challenge of Salganik et al. (2020, PNAS), available [here](https://www.pnas.org/doi/10.1073/pnas.1915006117). Here, the seed variability stems from the [Amelia](https://cran.r-project.org/web/packages/Amelia/index.html) package. Note that to replicate this work, you'll need to download the FFC replication materials from the Harvard dataverse (available [here](https://dataverse.harvard.edu/dataset.xhtml;jsessionid=cafb079a3ebb9e708c193e78ac20?persistentId=doi%3A10.7910%2FDVN%2FCXSECU&version=&q=&fileTypeGroupFacet=%22Image%22&fileAccess=))."
   ]
  },
  {
   "cell_type": "code",
   "execution_count": null,
   "id": "65d8f8d4",
   "metadata": {},
   "outputs": [],
   "source": [
    "import os\n",
    "import warnings\n",
    "import pandas as pd\n",
    "from helper_figure_plotters import load_sympt,\\\n",
    "                                   plot_three_predictions,\\\n",
    "                                   plot_mvprobit,\\\n",
    "                                   plot_four_simple_examples,\\\n",
    "                                   plot_collisions,\\\n",
    "                                   plot_topics_barplot,\\\n",
    "                                   plot_ffc\n",
    "\n",
    "%load_ext autoreload\n",
    "%autoreload 2\n",
    "\n",
    "warnings.filterwarnings(\"ignore\")\n",
    "figure_path = os.path.join(os.getcwd(), '..', 'figures')\n",
    "\n",
    "ffc = pd.read_csv(os.path.join(os.getcwd(), '..', 'data', 'ffc',\n",
    "                               'output', 'seed',\n",
    "                               'seed_analysis_10000.csv'))\n",
    "plot_ffc(ffc, figure_path)"
   ]
  },
  {
   "cell_type": "markdown",
   "id": "6492f44e",
   "metadata": {},
   "source": [
    "Finally, we utilise the immensely popular BERTopic algorithm by of Grootendorst (2022), available here [here](https://arxiv.org/pdf/2203.05794.pdf). In these examples, we use four sets of abstracts obtained from [dimensions.ai](https://www.dimensions.ai/). The abstracts which are thusly topic modelled are from the journals:\n",
    "    \n",
    "    * Science\n",
    "    * The New England Journal of Medicine\n",
    "    * PNAS\n",
    "    * Nature"
   ]
  },
  {
   "cell_type": "code",
   "execution_count": null,
   "id": "60b4d16a",
   "metadata": {},
   "outputs": [],
   "source": [
    "plot_topics_barplot(figure_path)"
   ]
  },
  {
   "cell_type": "markdown",
   "id": "7105597c",
   "metadata": {},
   "source": [
    "#### Section 3\n",
    "\n",
    "Scientometric Analysis"
   ]
  },
  {
   "cell_type": "code",
   "execution_count": 4,
   "id": "d01382d3-209b-40bf-808e-e1c1ad4b7169",
   "metadata": {},
   "outputs": [],
   "source": [
    "import os\n",
    "import warnings\n",
    "import pandas as pd\n",
    "from helper_figure_plotters import load_scientometrics,\\\n",
    "                                   desc_print_scientometrics,\\\n",
    "                                   make_table,\\\n",
    "                                   make_scientometric_ts"
   ]
  },
  {
   "cell_type": "code",
   "execution_count": 10,
   "id": "50300f70-2fcc-4d3c-bb85-eef0ee107682",
   "metadata": {},
   "outputs": [],
   "source": [
    "df_rng, df_hrng, df_qrng, df_prng, df_yr, df_yr_dom = load_scientometrics()"
   ]
  },
  {
   "cell_type": "code",
   "execution_count": 11,
   "id": "10bbf503-b4e7-4a5e-ad3c-0395356203ec",
   "metadata": {},
   "outputs": [
    {
     "name": "stdout",
     "output_type": "stream",
     "text": [
      "We have 468161 papers for \"random number\").\n",
      "Modal journal: Journal of biological chemistry/The Journal of biological chemistry (5840 papers)\n",
      "Modal subfield: Artificial Intelligence (20644 papers)\n",
      "Modal field: Medicine (153062 papers)\n",
      "Modal domain: Health Sciences (172309 papers)\n",
      "\n",
      "We have 5656 papers for \"random number\" and \"hardware\").\n",
      "Modal journal: IET communications (117 papers)\n",
      "Modal subfield: Computer Vision and Pattern Recognition (917 papers)\n",
      "Modal field: Computer Science (3338 papers)\n",
      "Modal domain: Physical Sciences (4894 papers)\n",
      "\n",
      "We have 7947 papers for \"random number\" and \"quantum\").\n",
      "Modal journal: Journal of biological chemistry/The Journal of biological chemistry (397 papers)\n",
      "Modal subfield: Artificial Intelligence (2579 papers)\n",
      "Modal field: Computer Science (3376 papers)\n",
      "Modal domain: Physical Sciences (6957 papers)\n",
      "\n",
      "We have 8396 papers for \"random number\" and \"pseudo\").\n",
      "Modal journal: Journal of biological chemistry/The Journal of biological chemistry (217 papers)\n",
      "Modal subfield: Computer Vision and Pattern Recognition (1950 papers)\n",
      "Modal field: Computer Science (4200 papers)\n",
      "Modal domain: Physical Sciences (6539 papers)\n",
      "\n"
     ]
    }
   ],
   "source": [
    "desc_print_scientometrics(df_rng, df_hrng, df_qrng, df_prng)"
   ]
  },
  {
   "cell_type": "code",
   "execution_count": 12,
   "id": "11d496fb-669d-4e6a-8317-fe52d61102a9",
   "metadata": {},
   "outputs": [
    {
     "data": {
      "text/html": [
       "<div>\n",
       "<style scoped>\n",
       "    .dataframe tbody tr th:only-of-type {\n",
       "        vertical-align: middle;\n",
       "    }\n",
       "\n",
       "    .dataframe tbody tr th {\n",
       "        vertical-align: top;\n",
       "    }\n",
       "\n",
       "    .dataframe thead th {\n",
       "        text-align: right;\n",
       "    }\n",
       "</style>\n",
       "<table border=\"1\" class=\"dataframe\">\n",
       "  <thead>\n",
       "    <tr style=\"text-align: right;\">\n",
       "      <th></th>\n",
       "      <th>\"Random Numbers\"</th>\n",
       "      <th>\"Random Numbers\" and \"Hardware\"</th>\n",
       "      <th>\"Random Numbers\" and \"Quantum\"</th>\n",
       "      <th>\"Random Numbers\" and \"Pseudo\"</th>\n",
       "    </tr>\n",
       "    <tr>\n",
       "      <th>field</th>\n",
       "      <th></th>\n",
       "      <th></th>\n",
       "      <th></th>\n",
       "      <th></th>\n",
       "    </tr>\n",
       "  </thead>\n",
       "  <tbody>\n",
       "    <tr>\n",
       "      <th>Medicine</th>\n",
       "      <td>153062</td>\n",
       "      <td>334</td>\n",
       "      <td>221.0</td>\n",
       "      <td>597</td>\n",
       "    </tr>\n",
       "    <tr>\n",
       "      <th>Computer Science</th>\n",
       "      <td>63381</td>\n",
       "      <td>3338</td>\n",
       "      <td>3376.0</td>\n",
       "      <td>4200</td>\n",
       "    </tr>\n",
       "    <tr>\n",
       "      <th>Engineering</th>\n",
       "      <td>40534</td>\n",
       "      <td>1283</td>\n",
       "      <td>471.0</td>\n",
       "      <td>1261</td>\n",
       "    </tr>\n",
       "    <tr>\n",
       "      <th>Agricultural and Biological Sciences</th>\n",
       "      <td>35721</td>\n",
       "      <td>18</td>\n",
       "      <td>97.0</td>\n",
       "      <td>150</td>\n",
       "    </tr>\n",
       "    <tr>\n",
       "      <th>Biochemistry, Genetics and Molecular Biology</th>\n",
       "      <td>30851</td>\n",
       "      <td>125</td>\n",
       "      <td>330.0</td>\n",
       "      <td>394</td>\n",
       "    </tr>\n",
       "    <tr>\n",
       "      <th>Mathematics</th>\n",
       "      <td>21260</td>\n",
       "      <td>23</td>\n",
       "      <td>340.0</td>\n",
       "      <td>357</td>\n",
       "    </tr>\n",
       "    <tr>\n",
       "      <th>Physics and Astronomy</th>\n",
       "      <td>15598</td>\n",
       "      <td>139</td>\n",
       "      <td>2369.0</td>\n",
       "      <td>348</td>\n",
       "    </tr>\n",
       "    <tr>\n",
       "      <th>Environmental Science</th>\n",
       "      <td>13491</td>\n",
       "      <td>44</td>\n",
       "      <td>34.0</td>\n",
       "      <td>174</td>\n",
       "    </tr>\n",
       "    <tr>\n",
       "      <th>Social Sciences</th>\n",
       "      <td>11983</td>\n",
       "      <td>56</td>\n",
       "      <td>44.0</td>\n",
       "      <td>66</td>\n",
       "    </tr>\n",
       "    <tr>\n",
       "      <th>Psychology</th>\n",
       "      <td>11116</td>\n",
       "      <td>26</td>\n",
       "      <td>21.0</td>\n",
       "      <td>80</td>\n",
       "    </tr>\n",
       "    <tr>\n",
       "      <th>Health Professions</th>\n",
       "      <td>10765</td>\n",
       "      <td>28</td>\n",
       "      <td>6.0</td>\n",
       "      <td>35</td>\n",
       "    </tr>\n",
       "    <tr>\n",
       "      <th>Neuroscience</th>\n",
       "      <td>9618</td>\n",
       "      <td>67</td>\n",
       "      <td>108.0</td>\n",
       "      <td>193</td>\n",
       "    </tr>\n",
       "    <tr>\n",
       "      <th>Decision Sciences</th>\n",
       "      <td>9447</td>\n",
       "      <td>37</td>\n",
       "      <td>29.0</td>\n",
       "      <td>131</td>\n",
       "    </tr>\n",
       "    <tr>\n",
       "      <th>Economics, Econometrics and Finance</th>\n",
       "      <td>7753</td>\n",
       "      <td>16</td>\n",
       "      <td>55.0</td>\n",
       "      <td>99</td>\n",
       "    </tr>\n",
       "    <tr>\n",
       "      <th>Business, Management and Accounting</th>\n",
       "      <td>5407</td>\n",
       "      <td>24</td>\n",
       "      <td>12.0</td>\n",
       "      <td>34</td>\n",
       "    </tr>\n",
       "    <tr>\n",
       "      <th>Immunology and Microbiology</th>\n",
       "      <td>5164</td>\n",
       "      <td>5</td>\n",
       "      <td>32.0</td>\n",
       "      <td>31</td>\n",
       "    </tr>\n",
       "    <tr>\n",
       "      <th>Materials Science</th>\n",
       "      <td>5012</td>\n",
       "      <td>13</td>\n",
       "      <td>230.0</td>\n",
       "      <td>79</td>\n",
       "    </tr>\n",
       "    <tr>\n",
       "      <th>Dentistry</th>\n",
       "      <td>4149</td>\n",
       "      <td>6</td>\n",
       "      <td>NaN</td>\n",
       "      <td>4</td>\n",
       "    </tr>\n",
       "    <tr>\n",
       "      <th>Earth and Planetary Sciences</th>\n",
       "      <td>3732</td>\n",
       "      <td>24</td>\n",
       "      <td>21.0</td>\n",
       "      <td>69</td>\n",
       "    </tr>\n",
       "    <tr>\n",
       "      <th>Nursing</th>\n",
       "      <td>2956</td>\n",
       "      <td>9</td>\n",
       "      <td>9.0</td>\n",
       "      <td>11</td>\n",
       "    </tr>\n",
       "    <tr>\n",
       "      <th>Chemistry</th>\n",
       "      <td>2511</td>\n",
       "      <td>10</td>\n",
       "      <td>102.0</td>\n",
       "      <td>41</td>\n",
       "    </tr>\n",
       "    <tr>\n",
       "      <th>Veterinary</th>\n",
       "      <td>1377</td>\n",
       "      <td>4</td>\n",
       "      <td>1.0</td>\n",
       "      <td>10</td>\n",
       "    </tr>\n",
       "    <tr>\n",
       "      <th>Pharmacology, Toxicology and Pharmaceutics</th>\n",
       "      <td>1370</td>\n",
       "      <td>1</td>\n",
       "      <td>3.0</td>\n",
       "      <td>5</td>\n",
       "    </tr>\n",
       "    <tr>\n",
       "      <th>Arts and Humanities</th>\n",
       "      <td>1146</td>\n",
       "      <td>6</td>\n",
       "      <td>22.0</td>\n",
       "      <td>17</td>\n",
       "    </tr>\n",
       "    <tr>\n",
       "      <th>Energy</th>\n",
       "      <td>410</td>\n",
       "      <td>17</td>\n",
       "      <td>10.0</td>\n",
       "      <td>6</td>\n",
       "    </tr>\n",
       "    <tr>\n",
       "      <th>Chemical Engineering</th>\n",
       "      <td>345</td>\n",
       "      <td>3</td>\n",
       "      <td>4.0</td>\n",
       "      <td>4</td>\n",
       "    </tr>\n",
       "  </tbody>\n",
       "</table>\n",
       "</div>"
      ],
      "text/plain": [
       "                                              \"Random Numbers\"  \\\n",
       "field                                                            \n",
       "Medicine                                                153062   \n",
       "Computer Science                                         63381   \n",
       "Engineering                                              40534   \n",
       "Agricultural and Biological Sciences                     35721   \n",
       "Biochemistry, Genetics and Molecular Biology             30851   \n",
       "Mathematics                                              21260   \n",
       "Physics and Astronomy                                    15598   \n",
       "Environmental Science                                    13491   \n",
       "Social Sciences                                          11983   \n",
       "Psychology                                               11116   \n",
       "Health Professions                                       10765   \n",
       "Neuroscience                                              9618   \n",
       "Decision Sciences                                         9447   \n",
       "Economics, Econometrics and Finance                       7753   \n",
       "Business, Management and Accounting                       5407   \n",
       "Immunology and Microbiology                               5164   \n",
       "Materials Science                                         5012   \n",
       "Dentistry                                                 4149   \n",
       "Earth and Planetary Sciences                              3732   \n",
       "Nursing                                                   2956   \n",
       "Chemistry                                                 2511   \n",
       "Veterinary                                                1377   \n",
       "Pharmacology, Toxicology and Pharmaceutics                1370   \n",
       "Arts and Humanities                                       1146   \n",
       "Energy                                                     410   \n",
       "Chemical Engineering                                       345   \n",
       "\n",
       "                                              \"Random Numbers\" and \"Hardware\"  \\\n",
       "field                                                                           \n",
       "Medicine                                                                  334   \n",
       "Computer Science                                                         3338   \n",
       "Engineering                                                              1283   \n",
       "Agricultural and Biological Sciences                                       18   \n",
       "Biochemistry, Genetics and Molecular Biology                              125   \n",
       "Mathematics                                                                23   \n",
       "Physics and Astronomy                                                     139   \n",
       "Environmental Science                                                      44   \n",
       "Social Sciences                                                            56   \n",
       "Psychology                                                                 26   \n",
       "Health Professions                                                         28   \n",
       "Neuroscience                                                               67   \n",
       "Decision Sciences                                                          37   \n",
       "Economics, Econometrics and Finance                                        16   \n",
       "Business, Management and Accounting                                        24   \n",
       "Immunology and Microbiology                                                 5   \n",
       "Materials Science                                                          13   \n",
       "Dentistry                                                                   6   \n",
       "Earth and Planetary Sciences                                               24   \n",
       "Nursing                                                                     9   \n",
       "Chemistry                                                                  10   \n",
       "Veterinary                                                                  4   \n",
       "Pharmacology, Toxicology and Pharmaceutics                                  1   \n",
       "Arts and Humanities                                                         6   \n",
       "Energy                                                                     17   \n",
       "Chemical Engineering                                                        3   \n",
       "\n",
       "                                              \"Random Numbers\" and \"Quantum\"  \\\n",
       "field                                                                          \n",
       "Medicine                                                               221.0   \n",
       "Computer Science                                                      3376.0   \n",
       "Engineering                                                            471.0   \n",
       "Agricultural and Biological Sciences                                    97.0   \n",
       "Biochemistry, Genetics and Molecular Biology                           330.0   \n",
       "Mathematics                                                            340.0   \n",
       "Physics and Astronomy                                                 2369.0   \n",
       "Environmental Science                                                   34.0   \n",
       "Social Sciences                                                         44.0   \n",
       "Psychology                                                              21.0   \n",
       "Health Professions                                                       6.0   \n",
       "Neuroscience                                                           108.0   \n",
       "Decision Sciences                                                       29.0   \n",
       "Economics, Econometrics and Finance                                     55.0   \n",
       "Business, Management and Accounting                                     12.0   \n",
       "Immunology and Microbiology                                             32.0   \n",
       "Materials Science                                                      230.0   \n",
       "Dentistry                                                                NaN   \n",
       "Earth and Planetary Sciences                                            21.0   \n",
       "Nursing                                                                  9.0   \n",
       "Chemistry                                                              102.0   \n",
       "Veterinary                                                               1.0   \n",
       "Pharmacology, Toxicology and Pharmaceutics                               3.0   \n",
       "Arts and Humanities                                                     22.0   \n",
       "Energy                                                                  10.0   \n",
       "Chemical Engineering                                                     4.0   \n",
       "\n",
       "                                              \"Random Numbers\" and \"Pseudo\"  \n",
       "field                                                                        \n",
       "Medicine                                                                597  \n",
       "Computer Science                                                       4200  \n",
       "Engineering                                                            1261  \n",
       "Agricultural and Biological Sciences                                    150  \n",
       "Biochemistry, Genetics and Molecular Biology                            394  \n",
       "Mathematics                                                             357  \n",
       "Physics and Astronomy                                                   348  \n",
       "Environmental Science                                                   174  \n",
       "Social Sciences                                                          66  \n",
       "Psychology                                                               80  \n",
       "Health Professions                                                       35  \n",
       "Neuroscience                                                            193  \n",
       "Decision Sciences                                                       131  \n",
       "Economics, Econometrics and Finance                                      99  \n",
       "Business, Management and Accounting                                      34  \n",
       "Immunology and Microbiology                                              31  \n",
       "Materials Science                                                        79  \n",
       "Dentistry                                                                 4  \n",
       "Earth and Planetary Sciences                                             69  \n",
       "Nursing                                                                  11  \n",
       "Chemistry                                                                41  \n",
       "Veterinary                                                               10  \n",
       "Pharmacology, Toxicology and Pharmaceutics                                5  \n",
       "Arts and Humanities                                                      17  \n",
       "Energy                                                                    6  \n",
       "Chemical Engineering                                                      4  "
      ]
     },
     "execution_count": 12,
     "metadata": {},
     "output_type": "execute_result"
    }
   ],
   "source": [
    "make_table(df_rng, df_hrng, df_qrng, df_prng, 'field')"
   ]
  },
  {
   "cell_type": "code",
   "execution_count": 13,
   "id": "6c6f7a0c-ca81-413f-b9d9-ff4c0c987c2b",
   "metadata": {},
   "outputs": [
    {
     "data": {
      "image/png": "[encoded data removed]",
      "text/plain": [
       "<Figure size 1400x700 with 3 Axes>"
      ]
     },
     "metadata": {},
     "output_type": "display_data"
    }
   ],
   "source": [
    "domain_df = make_table(df_rng, df_hrng, df_qrng, df_prng, 'domain')\n",
    "domain_df = (domain_df/domain_df.sum()*100).round(2)\n",
    "df_yr = make_scientometric_ts(df_rng, df_hrng, df_qrng, df_prng, df_yr, domain_df)"
   ]
  },
  {
   "cell_type": "code",
   "execution_count": 14,
   "id": "9472d175-7b89-4a93-9efc-28aff95ed9d2",
   "metadata": {},
   "outputs": [
    {
     "name": "stdout",
     "output_type": "stream",
     "text": [
      "The percent of OpenAlex which is focused on RNG in year 1970 is 0.0608\n",
      "The percent of OpenAlex which is focused on RNG in year 2020 is 0.2687\n",
      "The percent of OpenAlex which is focused on HRNG in year 1970 is 0.0002\n",
      "The percent of OpenAlex which is focused on HRNG in year 2020 is 0.0046\n",
      "The percent of OpenAlex which is focused on QRNG in year 1970 is 0.0008\n",
      "The percent of OpenAlex which is focused on QRNG in year 2020 is 0.005\n",
      "The percent of OpenAlex which is focused on PRNG in year 1970 is 0.0008\n",
      "The percent of OpenAlex which is focused on PRNG in year 2020 is 0.0048\n"
     ]
    }
   ],
   "source": [
    "df_yr = df_yr.set_index('year')\n",
    "for rng_type in ['RNG_count', 'HRNG_count', 'QRNG_count', 'PRNG_count']:\n",
    "    print('The percent of OpenAlex which is focused on ' + rng_type.split('_')[0] +\n",
    "          ' in year 1970 is ' + str(df_yr.loc[1970, rng_type].round(4)))\n",
    "    print('The percent of OpenAlex which is focused on ' + rng_type.split('_')[0] +\n",
    "          ' in year 2020 is ' + str(df_yr.loc[2020, rng_type].round(4)))"
   ]
  },
  {
   "cell_type": "markdown",
   "id": "e6ade2cb-cf0d-46d8-a554-63f86bb2ed0c",
   "metadata": {},
   "source": [
    "#### Section 4\n",
    "\n",
    "That is not to say that these are all of the times when random states can have dramatic effects on estimand outputs. Indeed, the set of _types_ where the effects are huge are far greater than the sparse number of examples which we show as part of this project. This is just a compactly presented set which makes dissemination of our message easiest!\n",
    "\n",
    "Please don't hesitate to get in contact with any other examples which you can think of, or raise bugs if you find any issues!"
   ]
  }
 ],
 "metadata": {
  "kernelspec": {
   "display_name": "Python 3 (ipykernel)",
   "language": "python",
   "name": "python3"
  },
  "language_info": {
   "codemirror_mode": {
    "name": "ipython",
    "version": 3
   },
   "file_extension": ".py",
   "mimetype": "text/x-python",
   "name": "python",
   "nbconvert_exporter": "python",
   "pygments_lexer": "ipython3",
   "version": "3.11.7"
  }
 },
 "nbformat": 4,
 "nbformat_minor": 5
}
