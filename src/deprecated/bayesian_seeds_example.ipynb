{
 "cells": [
  {
   "cell_type": "code",
   "execution_count": 1,
   "id": "1655d8d2",
   "metadata": {
    "pycharm": {
     "name": "#%%\n"
    }
   },
   "outputs": [
    {
     "ename": "ModuleNotFoundError",
     "evalue": "No module named 'pyro'",
     "output_type": "error",
     "traceback": [
      "\u001b[1;31m---------------------------------------------------------------------------\u001b[0m",
      "\u001b[1;31mModuleNotFoundError\u001b[0m                       Traceback (most recent call last)",
      "\u001b[1;32m<ipython-input-1-bfcf88640c83>\u001b[0m in \u001b[0;36m<module>\u001b[1;34m\u001b[0m\n\u001b[0;32m      1\u001b[0m \u001b[1;32mimport\u001b[0m \u001b[0mtorch\u001b[0m\u001b[1;33m\u001b[0m\u001b[1;33m\u001b[0m\u001b[0m\n\u001b[1;32m----> 2\u001b[1;33m \u001b[1;32mimport\u001b[0m \u001b[0mpyro\u001b[0m\u001b[1;33m\u001b[0m\u001b[1;33m\u001b[0m\u001b[0m\n\u001b[0m\u001b[0;32m      3\u001b[0m \u001b[1;32mimport\u001b[0m \u001b[0mpyro\u001b[0m\u001b[1;33m.\u001b[0m\u001b[0mdistributions\u001b[0m \u001b[1;32mas\u001b[0m \u001b[0mdist\u001b[0m\u001b[1;33m\u001b[0m\u001b[1;33m\u001b[0m\u001b[0m\n\u001b[0;32m      4\u001b[0m \u001b[1;32mfrom\u001b[0m \u001b[0mpyro\u001b[0m\u001b[1;33m.\u001b[0m\u001b[0moptim\u001b[0m \u001b[1;32mimport\u001b[0m \u001b[0mAdam\u001b[0m\u001b[1;33m\u001b[0m\u001b[1;33m\u001b[0m\u001b[0m\n\u001b[0;32m      5\u001b[0m \u001b[1;32mfrom\u001b[0m \u001b[0mpyro\u001b[0m\u001b[1;33m.\u001b[0m\u001b[0minfer\u001b[0m \u001b[1;32mimport\u001b[0m \u001b[0mSVI\u001b[0m\u001b[1;33m,\u001b[0m \u001b[0mTrace_ELBO\u001b[0m\u001b[1;33m\u001b[0m\u001b[1;33m\u001b[0m\u001b[0m\n",
      "\u001b[1;31mModuleNotFoundError\u001b[0m: No module named 'pyro'"
     ]
    }
   ],
   "source": [
    "import torch\n",
    "import pyro\n",
    "import pyro.distributions as dist\n",
    "from pyro.optim import Adam\n",
    "from pyro.infer import SVI, Trace_ELBO\n",
    "from sklearn.datasets import load_wine\n",
    "from sklearn.preprocessing import StandardScaler\n",
    "\n",
    "# Load the Wine Quality dataset\n",
    "wine = load_wine()\n",
    "X, y = wine.data, wine.target\n",
    "\n",
    "# Standardize the features\n",
    "scaler = StandardScaler()\n",
    "X = scaler.fit_transform(X)\n",
    "\n",
    "# Define the Bayesian logistic regression model\n",
    "def model(X, y):\n",
    "    num_features = X.shape[1]\n",
    "    weight = pyro.sample('weight', dist.Normal(torch.zeros(num_features), torch.ones(num_features)))\n",
    "    intercept = pyro.sample('intercept', dist.Normal(0, 10))\n",
    "    logits = torch.matmul(X, weight) + intercept\n",
    "    with pyro.plate('data', len(X)):\n",
    "        pyro.sample('obs', dist.Bernoulli(logits=logits), obs=y)\n",
    "\n",
    "# Define the guide (variational distribution)\n",
    "def guide(X, y):\n",
    "    num_features = X.shape[1]\n",
    "    slope_mean = pyro.param('slope_mean', torch.zeros(num_features))\n",
    "    slope_std = pyro.param('slope_std', torch.ones(num_features), constraint=dist.constraints.positive)\n",
    "    intercept_mean = pyro.param('intercept_mean', torch.tensor(0.))\n",
    "    intercept_std = pyro.param('intercept_std', torch.tensor(1.), constraint=dist.constraints.positive)\n",
    "    pyro.sample('weight', dist.Normal(slope_mean, slope_std))\n",
    "    pyro.sample('intercept', dist.Normal(intercept_mean, intercept_std))\n",
    "\n",
    "# Set up the optimizer and the SVI object\n",
    "optimizer = Adam({\"lr\": 0.01})\n",
    "svi = SVI(model, guide, optimizer, loss=Trace_ELBO())\n",
    "\n",
    "# Run variational inference\n",
    "num_steps = 1000\n",
    "pyro.clear_param_store()\n",
    "for step in range(num_steps):\n",
    "    loss = svi.step(X, y)\n",
    "    if step % 100 == 0:\n",
    "        print(f\"Step {step}/{num_steps}, Loss: {loss}\")\n",
    "\n",
    "# Get the posterior distribution parameters\n",
    "slope_mean = pyro.param('slope_mean').detach().numpy()\n",
    "slope_std = pyro.param('slope_std').detach().numpy()\n",
    "intercept_mean = pyro.param('intercept_mean').item()\n",
    "intercept_std = pyro.param('intercept_std').item()\n",
    "\n",
    "print(\"Posterior slope mean:\", slope_mean)\n",
    "print(\"Posterior slope standard deviation:\", slope_std)\n",
    "print(\"Posterior intercept mean:\", intercept_mean)\n",
    "print(\"Posterior intercept standard deviation:\", intercept_std)"
   ]
  }
 ],
 "metadata": {
  "kernelspec": {
   "display_name": "Python 3 (ipykernel)",
   "language": "python",
   "name": "python3"
  },
  "language_info": {
   "codemirror_mode": {
    "name": "ipython",
    "version": 3
   },
   "file_extension": ".py",
   "mimetype": "text/x-python",
   "name": "python",
   "nbconvert_exporter": "python",
   "pygments_lexer": "ipython3",
   "version": "3.11.5"
  }
 },
 "nbformat": 4,
 "nbformat_minor": 5
}
